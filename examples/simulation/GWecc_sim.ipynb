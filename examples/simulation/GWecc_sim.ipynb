{
 "cells": [
  {
   "cell_type": "code",
   "execution_count": 151,
   "metadata": {},
   "outputs": [],
   "source": [
    "import libstempo as lst\n",
    "import libstempo.toasim as toasim\n",
    "import libstempo.plot as lstplot\n",
    "import numpy as np\n",
    "import matplotlib.pyplot as plt\n",
    "import glob\n",
    "import os\n",
    "import sys\n",
    "import enterprise_GWecc as gwecc\n",
    "import ephem"
   ]
  },
  {
   "cell_type": "code",
   "execution_count": 127,
   "metadata": {},
   "outputs": [],
   "source": [
    "data_dir = \"/home/abhimanyu/Work/GWecc_sim/DR2/release/VersionB\"\n",
    "par_fmt = \"{}.IPTADR2.par\"\n",
    "tim_fmt = \"{}.IPTADR2.tim\"\n",
    "\n",
    "output_dir = \"output\"\n",
    "\n",
    "if not os.path.exists(output_dir):\n",
    "    os.mkdir(output_dir)"
   ]
  },
  {
   "cell_type": "code",
   "execution_count": 128,
   "metadata": {},
   "outputs": [
    {
     "name": "stdout",
     "output_type": "stream",
     "text": [
      "['J0023+0923', 'J0030+0451', 'J0034-0534', 'J0218+4232', 'J0340+4130', 'J0437-4715', 'J0610-2100', 'J0613-0200', 'J0621+1002', 'J0645+5158', 'J0711-6830', 'J0751+1807', 'J0900-3144', 'J0931-1902', 'J1012+5307', 'J1022+1001', 'J1024-0719', 'J1045-4509', 'J1455-3330', 'J1600-3053', 'J1603-7202', 'J1614-2230', 'J1640+2224', 'J1643-1224', 'J1713+0747', 'J1721-2457', 'J1730-2304', 'J1732-5049', 'J1738+0333', 'J1741+1351', 'J1744-1134', 'J1747-4036', 'J1751-2857', 'J1801-1417', 'J1802-2124', 'J1804-2717', 'J1824-2452A', 'J1832-0836', 'J1843-1113', 'J1853+1303', 'J1857+0943', 'J1903+0327', 'J1909-3744', 'J1910+1256', 'J1911+1347', 'J1911-1114', 'J1918-0642', 'J1923+2515', 'J1939+2134', 'J1944+0907', 'J1949+3106', 'J1955+2908', 'J2010-1323', 'J2017+0603', 'J2019+2425', 'J2033+1734', 'J2043+1711', 'J2124-3358', 'J2129-5721', 'J2145-0750', 'J2214+3000', 'J2229+2643', 'J2302+4442', 'J2317+1439', 'J2322+2057']\n"
     ]
    }
   ],
   "source": [
    "# Get list of pulsars\n",
    "psrjs = sorted([os.path.basename(p) for p in glob.glob(data_dir + \"/J*\")])\n",
    "print(psrjs)"
   ]
  },
  {
   "cell_type": "code",
   "execution_count": 129,
   "metadata": {},
   "outputs": [],
   "source": [
    "def read_pulsar(jname):\n",
    "    psr_dir = data_dir + \"/\" + jname\n",
    "    par_file = psr_dir + \"/\" + par_fmt.format(jname)\n",
    "    tim_file = psr_dir + \"/\" + tim_fmt.format(jname)\n",
    "    \n",
    "    psr = lst.tempopulsar(parfile=par_file, timfile=tim_file)\n",
    "    \n",
    "    return psr\n",
    "\n",
    "psrs = []\n",
    "for psrj in psrjs:\n",
    "    psr = read_pulsar(psrj)\n",
    "    psrs.append(psr)"
   ]
  },
  {
   "cell_type": "code",
   "execution_count": 130,
   "metadata": {},
   "outputs": [],
   "source": [
    "def uniform_sample(n,a,b):\n",
    "    return np.random.rand(n)*(b-a) + a\n",
    "\n",
    "efac_min, efac_max = 0.8, 1.2\n",
    "efacs = uniform_sample(len(psrs), efac_min, efac_max)\n",
    "\n",
    "log10_equad_min, log10_equad_max = -10, -5\n",
    "log10_equads = uniform_sample(len(psrs), log10_equad_min, log10_equad_max)\n",
    "equads = 10**log10_equads\n",
    "\n",
    "log10_rn_A_min, log10_rn_A_max = -20, -13\n",
    "log10_rn_As = uniform_sample(len(psrs), log10_rn_A_min, log10_rn_A_max)\n",
    "rn_As = 10**log10_rn_As\n",
    "\n",
    "rn_gamma_min, rn_gamma_max = 0.05, 7\n",
    "rn_gammas = uniform_sample(len(psrs), rn_gamma_min, rn_gamma_max)\n",
    "\n",
    "rn_nharms = 15"
   ]
  },
  {
   "cell_type": "code",
   "execution_count": 149,
   "metadata": {},
   "outputs": [],
   "source": [
    "day_to_s = 24*3600\n",
    "\n",
    "tref = float( max([max(psr.toas()) for psr in psrs]) * day_to_s )\n",
    "\n",
    "gwecc_params = {\"cos_gwtheta\" : 0.3,\n",
    "                \"gwphi\"       : np.pi/4,\n",
    "                \"log10_dist\"  : -1.2,\n",
    "                \"log10_h\"     : None,\n",
    "                \"psi\"         : 0, \n",
    "                \"cos_inc\"     : 0.6,\n",
    "                \"log10_M\"     : 9, \n",
    "                \"q\"           : 1, \n",
    "                \"log10_F\"     : -8, \n",
    "                \"e0\"          : 0.5, \n",
    "                \"gamma0\"      : 0, \n",
    "                \"l0\"          : 0, \n",
    "                \"tref\"        : tref,\n",
    "                \"z\"           : 0.0}\n",
    "\n",
    "def add_gwecc(psr, gwecc_params):\n",
    "    toas = (psr.toas() * day_to_s).astype(\"double\")\n",
    "    \n",
    "    params = dict(zip(psr.pars(), psr.vals()))\n",
    "    if 'RAJ' in psr.pars():\n",
    "        theta = float(np.pi/2 - params['DECJ'])\n",
    "        phi = float(params['RAJ'])\n",
    "    elif \"ELAT\" in psr.pars():\n",
    "        rad_to_deg = 180.0 / np.pi\n",
    "        coords = ephem.Equatorial(ephem.Ecliptic(str(psr[\"ELONG\"].val * rad_to_deg), str(psr[\"ELAT\"].val * rad_to_deg)))\n",
    "\n",
    "        theta = np.pi / 2 - float(repr(coords.dec))\n",
    "        phi = float(repr(coords.ra))\n",
    "    \n",
    "    signal = gwecc.eccentric_cw_delay(toas=toas, theta=theta, phi=phi, \n",
    "                                      pdist=1, \n",
    "                                      psrTerm=False, evolve=True,\n",
    "                                      **gwecc_params) / day_to_s\n",
    "    \n",
    "    psr.stoas[:] += signal \n",
    "    \n",
    "    return signal"
   ]
  },
  {
   "cell_type": "code",
   "execution_count": 152,
   "metadata": {},
   "outputs": [
    {
     "name": "stdout",
     "output_type": "stream",
     "text": [
      "Simulated TOAs for J0023+0923\n",
      "Simulated TOAs for J0030+0451\n",
      "Simulated TOAs for J0034-0534\n",
      "Simulated TOAs for J0218+4232\n",
      "Simulated TOAs for J0340+4130\n",
      "Simulated TOAs for J0437-4715\n",
      "Simulated TOAs for J0610-2100\n",
      "Simulated TOAs for J0613-0200\n",
      "Simulated TOAs for J0621+1002\n",
      "Simulated TOAs for J0645+5158\n",
      "Simulated TOAs for J0711-6830\n",
      "Simulated TOAs for J0751+1807\n",
      "Simulated TOAs for J0900-3144\n",
      "Simulated TOAs for J0931-1902\n",
      "Simulated TOAs for J1012+5307\n",
      "Simulated TOAs for J1022+1001\n",
      "Simulated TOAs for J1024-0719\n",
      "Simulated TOAs for J1045-4509\n",
      "Simulated TOAs for J1455-3330\n",
      "Simulated TOAs for J1600-3053\n",
      "Simulated TOAs for J1603-7202\n",
      "Simulated TOAs for J1614-2230\n",
      "Simulated TOAs for J1640+2224\n",
      "Simulated TOAs for J1643-1224\n",
      "Simulated TOAs for J1713+0747\n",
      "Simulated TOAs for J1721-2457\n",
      "Simulated TOAs for J1730-2304\n",
      "Simulated TOAs for J1732-5049\n",
      "Simulated TOAs for J1738+0333\n",
      "Simulated TOAs for J1741+1351\n",
      "Simulated TOAs for J1744-1134\n",
      "Simulated TOAs for J1747-4036\n",
      "Simulated TOAs for J1751-2857\n",
      "Simulated TOAs for J1801-1417\n",
      "Simulated TOAs for J1802-2124\n",
      "Simulated TOAs for J1804-2717\n",
      "Simulated TOAs for J1824-2452A\n",
      "Simulated TOAs for J1832-0836\n",
      "Simulated TOAs for J1843-1113\n",
      "Simulated TOAs for J1853+1303\n",
      "Simulated TOAs for J1857+0943\n",
      "Simulated TOAs for J1903+0327\n",
      "Simulated TOAs for J1909-3744\n",
      "Simulated TOAs for J1910+1256\n",
      "Simulated TOAs for J1911+1347\n",
      "Simulated TOAs for J1911-1114\n",
      "Simulated TOAs for J1918-0642\n",
      "Simulated TOAs for J1923+2515\n",
      "Simulated TOAs for J1939+2134\n",
      "Simulated TOAs for J1944+0907\n",
      "Simulated TOAs for J1949+3106\n",
      "Simulated TOAs for J1955+2908\n",
      "Simulated TOAs for J2010-1323\n",
      "Simulated TOAs for J2017+0603\n",
      "Simulated TOAs for J2019+2425\n",
      "Simulated TOAs for J2033+1734\n",
      "Simulated TOAs for J2043+1711\n",
      "Simulated TOAs for J2124-3358\n",
      "Simulated TOAs for J2129-5721\n",
      "Simulated TOAs for J2145-0750\n",
      "Simulated TOAs for J2214+3000\n",
      "Simulated TOAs for J2229+2643\n",
      "Simulated TOAs for J2302+4442\n",
      "Simulated TOAs for J2317+1439\n",
      "Simulated TOAs for J2322+2057\n"
     ]
    }
   ],
   "source": [
    "for psr, ef, eq, rnA, rngam in zip(psrs, efacs, equads, rn_As, rn_gammas):\n",
    "    toasim.make_ideal(psr)\n",
    "    toasim.add_efac(psr, ef)\n",
    "    toasim.add_equad(psr, eq)\n",
    "    toasim.add_rednoise(psr, rnA, rngam, components=rn_nharms)\n",
    "    add_gwecc(psr, gwecc_params)\n",
    "    print(\"Simulated TOAs for\", psr.name)"
   ]
  },
  {
   "cell_type": "code",
   "execution_count": null,
   "metadata": {},
   "outputs": [],
   "source": [
    "for psr, ef, eq, rnA, rngam in zip(psrs, efacs, equads, rn_As, rn_gammas):\n",
    "    print(psr.name, ef, eq, rnA, rngam)\n",
    "    lstplot.plotres(psr)\n",
    "    plt.show()"
   ]
  },
  {
   "cell_type": "code",
   "execution_count": 147,
   "metadata": {},
   "outputs": [
    {
     "data": {
      "text/plain": [
       "'DECJ'"
      ]
     },
     "execution_count": 147,
     "metadata": {},
     "output_type": "execute_result"
    }
   ],
   "source": [
    "('RAJ' and 'DECJ') "
   ]
  },
  {
   "cell_type": "code",
   "execution_count": 133,
   "metadata": {},
   "outputs": [],
   "source": [
    "true_noise_params = np.transpose([psrjs, efacs, equads, rn_As, rn_gammas])\n",
    "np.savetxt(output_dir + \"/true_noise_params.dat\", true_noise_params, fmt='%s %s %s %s %s')"
   ]
  },
  {
   "cell_type": "code",
   "execution_count": 138,
   "metadata": {},
   "outputs": [
    {
     "data": {
      "text/plain": [
       "<matplotlib.collections.PathCollection at 0x7f8d4626ab38>"
      ]
     },
     "execution_count": 138,
     "metadata": {},
     "output_type": "execute_result"
    },
    {
     "data": {
      "image/png": "[encoded data removed]",
      "text/plain": [
       "<Figure size 432x288 with 1 Axes>"
      ]
     },
     "metadata": {},
     "output_type": "display_data"
    }
   ],
   "source": [
    "#psr = psrs[5]\n",
    "\n",
    "#toas = (psr.toas() * day_to_s).astype(\"double\")\n",
    "#params = dict(zip(psr.pars(), psr.vals()))\n",
    "#theta = float(np.pi/2 - params['DECJ'])\n",
    "#phi = float(params['RAJ'])\n",
    "\n",
    "#signal = gwecc.eccentric_cw_delay(toas=toas, theta=theta, phi=phi, \n",
    "#                                  pdist=1, p_dist=1,\n",
    "#                                  psrTerm=False, evolve=True,\n",
    "#                                  **gwecc_params)\n",
    "\n",
    "#toasim.make_ideal(psr)\n",
    "#lstplot.plotres(psr)\n",
    "\n",
    "#signal = add_gwecc(psr, gwecc_params)\n",
    "#lstplot.plotres(psr)\n",
    "\n",
    "#plt.scatter(psr.toas(),signal*day_to_s*1e6, color='red')"
   ]
  },
  {
   "cell_type": "code",
   "execution_count": 39,
   "metadata": {},
   "outputs": [
    {
     "name": "stdout",
     "output_type": "stream",
     "text": [
      "Writing simulated data for J0023+0923\n",
      "Writing simulated data for J0030+0451\n",
      "Writing simulated data for J0034-0534\n",
      "Writing simulated data for J0218+4232\n",
      "Writing simulated data for J0340+4130\n",
      "Writing simulated data for J0437-4715\n",
      "Writing simulated data for J0610-2100\n",
      "Writing simulated data for J0613-0200\n",
      "Writing simulated data for J0621+1002\n",
      "Writing simulated data for J0645+5158\n",
      "Writing simulated data for J0711-6830\n",
      "Writing simulated data for J0751+1807\n",
      "Writing simulated data for J0900-3144\n",
      "Writing simulated data for J0931-1902\n",
      "Writing simulated data for J1012+5307\n",
      "Writing simulated data for J1022+1001\n",
      "Writing simulated data for J1024-0719\n",
      "Writing simulated data for J1045-4509\n",
      "Writing simulated data for J1455-3330\n",
      "Writing simulated data for J1600-3053\n",
      "Writing simulated data for J1603-7202\n",
      "Writing simulated data for J1614-2230\n",
      "Writing simulated data for J1640+2224\n",
      "Writing simulated data for J1643-1224\n",
      "Writing simulated data for J1713+0747\n",
      "Writing simulated data for J1721-2457\n",
      "Writing simulated data for J1730-2304\n",
      "Writing simulated data for J1732-5049\n",
      "Writing simulated data for J1738+0333\n",
      "Writing simulated data for J1741+1351\n",
      "Writing simulated data for J1744-1134\n",
      "Writing simulated data for J1747-4036\n",
      "Writing simulated data for J1751-2857\n",
      "Writing simulated data for J1801-1417\n",
      "Writing simulated data for J1802-2124\n",
      "Writing simulated data for J1804-2717\n",
      "Writing simulated data for J1824-2452A\n",
      "Writing simulated data for J1832-0836\n",
      "Writing simulated data for J1843-1113\n",
      "Writing simulated data for J1853+1303\n",
      "Writing simulated data for J1857+0943\n",
      "Writing simulated data for J1903+0327\n",
      "Writing simulated data for J1909-3744\n",
      "Writing simulated data for J1910+1256\n",
      "Writing simulated data for J1911+1347\n",
      "Writing simulated data for J1911-1114\n",
      "Writing simulated data for J1918-0642\n",
      "Writing simulated data for J1923+2515\n",
      "Writing simulated data for J1939+2134\n",
      "Writing simulated data for J1944+0907\n",
      "Writing simulated data for J1949+3106\n",
      "Writing simulated data for J1955+2908\n",
      "Writing simulated data for J2010-1323\n",
      "Writing simulated data for J2017+0603\n",
      "Writing simulated data for J2019+2425\n",
      "Writing simulated data for J2033+1734\n",
      "Writing simulated data for J2043+1711\n",
      "Writing simulated data for J2124-3358\n",
      "Writing simulated data for J2129-5721\n",
      "Writing simulated data for J2145-0750\n",
      "Writing simulated data for J2214+3000\n",
      "Writing simulated data for J2229+2643\n",
      "Writing simulated data for J2302+4442\n",
      "Writing simulated data for J2317+1439\n",
      "Writing simulated data for J2322+2057\n"
     ]
    }
   ],
   "source": [
    "def save_psr_sim(psr):\n",
    "    print(\"Writing simulated data for\", psr.name)\n",
    "    psr.savepar(\"{}/{}_simulate.par\".format(output_dir, psr.name))\n",
    "    psr.savetim(\"{}/{}_simulate.tim\".format(output_dir, psr.name))\n",
    "    lst.purgetim(\"{}/{}_simulate.tim\".format(output_dir, psr.name))\n",
    "    \n",
    "for psr in psrs:\n",
    "    save_psr_sim(psr)"
   ]
  }
 ],
 "metadata": {
  "kernelspec": {
   "display_name": "Python 3",
   "language": "python",
   "name": "python3"
  },
  "language_info": {
   "codemirror_mode": {
    "name": "ipython",
    "version": 3
   },
   "file_extension": ".py",
   "mimetype": "text/x-python",
   "name": "python",
   "nbconvert_exporter": "python",
   "pygments_lexer": "ipython3",
   "version": "3.6.9"
  }
 },
 "nbformat": 4,
 "nbformat_minor": 2
}
